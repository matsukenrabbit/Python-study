{
  "nbformat": 4,
  "nbformat_minor": 0,
  "metadata": {
    "colab": {
      "provenance": [],
      "authorship_tag": "ABX9TyOVDDlQxK2seW+r/uFtM2Cm",
      "include_colab_link": true
    },
    "kernelspec": {
      "name": "python3",
      "display_name": "Python 3"
    },
    "language_info": {
      "name": "python"
    }
  },
  "cells": [
    {
      "cell_type": "markdown",
      "metadata": {
        "id": "view-in-github",
        "colab_type": "text"
      },
      "source": [
        "<a href=\"https://colab.research.google.com/github/matsukenrabbit/Python-study/blob/main/xor.ipynb\" target=\"_parent\"><img src=\"https://colab.research.google.com/assets/colab-badge.svg\" alt=\"Open In Colab\"/></a>"
      ]
    },
    {
      "cell_type": "code",
      "execution_count": 2,
      "metadata": {
        "colab": {
          "base_uri": "https://localhost:8080/"
        },
        "id": "kx8GDcbSokSN",
        "outputId": "d4540eaa-38c3-4a02-cebb-f184077233e1"
      },
      "outputs": [
        {
          "output_type": "stream",
          "name": "stdout",
          "text": [
            "[[0, 0], [1, 0], [0, 1], [1, 1]] の予測結果： [0 0 0 0]\n",
            "正解率 =  0.5\n"
          ]
        }
      ],
      "source": [
        "from sklearn.svm import LinearSVC # LinerSVCアルゴリズムを利用するためのパッケージ\n",
        "from sklearn.metrics import accuracy_score # test結果を評価するパッケージ\n",
        "\n",
        "# 学習用のデータと結果の準備 --- (*2)\n",
        "# X , Y\n",
        "learn_data = [[0,0], [1,0], [0,1], [1,1]]\n",
        "# X and Y\n",
        "learn_label = [0, 1, 1, 0]\n",
        "\n",
        "# アルゴリズムの指定(LinierSVC) --- (*3)\n",
        "clf = LinearSVC()\n",
        "\n",
        "# 学習用データと結果の学習  --- (*4)\n",
        "clf.fit(learn_data, learn_label)\n",
        "\n",
        "# テストデータによる予測 --- (*5)\n",
        "test_data = [[0,0], [1,0], [0,1], [1,1]]\n",
        "test_label = clf.predict(test_data)\n",
        "\n",
        "# 予測結果の評価 --- (*6)\n",
        "# accuracy_score()メソッドは、正しい結果と予測結果を指定すると、正答率を返す。\n",
        "print(test_data , \"の予測結果：\" ,  test_label)\n",
        "print(\"正解率 = \" , accuracy_score([0, 1, 1, 0], test_label))"
      ]
    },
    {
      "cell_type": "markdown",
      "source": [
        "このプログラムでは、XOR演算を機械学習できない！"
      ],
      "metadata": {
        "id": "6WLl741FpO4q"
      }
    }
  ]
}