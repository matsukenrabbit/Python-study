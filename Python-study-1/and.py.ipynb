{
  "cells": [
    {
      "cell_type": "code",
      "execution_count": null,
      "id": "352f926b",
      "metadata": {
        "id": "352f926b",
        "outputId": "9bbf334d-8544-4d0b-cb7a-1ed6976df7ff"
      },
      "outputs": [
        {
          "name": "stdout",
          "output_type": "stream",
          "text": [
            "[[0, 0], [1, 0], [0, 1], [1, 1]] の予測結果： [0 0 0 1]\n",
            "正解率 =  1.0\n"
          ]
        }
      ],
      "source": [
        "# https://github.com/kujirahand/book-mlearn-gyomu/blob/master/src/ch2/and/and.pyより引用\n",
        "# ライブラリのインポート --- (*1)\n",
        "from sklearn.svm import LinearSVC # LinerSVCアルゴリズムを利用するためのパッケージ\n",
        "from sklearn.metrics import accuracy_score # test結果を評価するパッケージ\n",
        "\n",
        "# 学習用のデータと結果の準備 --- (*2)\n",
        "# X , Y\n",
        "learn_data = [[0,0], [1,0], [0,1], [1,1]]\n",
        "# X and Y\n",
        "learn_label = [0, 0, 0, 1]\n",
        "\n",
        "# アルゴリズムの指定(LinierSVC) --- (*3)\n",
        "clf = LinearSVC()\n",
        "\n",
        "# 学習用データと結果の学習  --- (*4)\n",
        "clf.fit(learn_data, learn_label)\n",
        "\n",
        "# テストデータによる予測 --- (*5)\n",
        "test_data = [[0,0], [1,0], [0,1], [1,1]]\n",
        "test_label = clf.predict(test_data)\n",
        "\n",
        "# 予測結果の評価 --- (*6)\n",
        "# accuracy_score()メソッドは、正しい結果と予測結果を指定すると、正答率を返す。\n",
        "print(test_data , \"の予測結果：\" ,  test_label)\n",
        "print(\"正解率 = \" , accuracy_score([0, 0, 0, 1], test_label))"
      ]
    }
  ],
  "metadata": {
    "kernelspec": {
      "display_name": "Python 3 (ipykernel)",
      "language": "python",
      "name": "python3"
    },
    "language_info": {
      "codemirror_mode": {
        "name": "ipython",
        "version": 3
      },
      "file_extension": ".py",
      "mimetype": "text/x-python",
      "name": "python",
      "nbconvert_exporter": "python",
      "pygments_lexer": "ipython3",
      "version": "3.9.13"
    },
    "colab": {
      "provenance": []
    }
  },
  "nbformat": 4,
  "nbformat_minor": 5
}