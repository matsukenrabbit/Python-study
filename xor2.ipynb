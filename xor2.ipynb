{
  "nbformat": 4,
  "nbformat_minor": 0,
  "metadata": {
    "colab": {
      "provenance": [],
      "authorship_tag": "ABX9TyO8N/Qdx192L69Ts0HI5/65",
      "include_colab_link": true
    },
    "kernelspec": {
      "name": "python3",
      "display_name": "Python 3"
    },
    "language_info": {
      "name": "python"
    }
  },
  "cells": [
    {
      "cell_type": "markdown",
      "metadata": {
        "id": "view-in-github",
        "colab_type": "text"
      },
      "source": [
        "<a href=\"https://colab.research.google.com/github/matsukenrabbit/Python-study/blob/main/Untitled0.ipynb\" target=\"_parent\"><img src=\"https://colab.research.google.com/assets/colab-badge.svg\" alt=\"Open In Colab\"/></a>"
      ]
    },
    {
      "cell_type": "code",
      "execution_count": 1,
      "metadata": {
        "colab": {
          "base_uri": "https://localhost:8080/"
        },
        "id": "ztL3KpPhp1cr",
        "outputId": "34d1b82b-7ef4-42e7-a148-7c0b2ae2845a"
      },
      "outputs": [
        {
          "output_type": "stream",
          "name": "stdout",
          "text": [
            "[[0, 0], [1, 0], [0, 1], [1, 1]] の予測結果： [0 1 1 0]\n",
            "正解率 =  1.0\n"
          ]
        }
      ],
      "source": [
        "# ライブラリのインポート --- (*1)\n",
        "from sklearn.neighbors import KNeighborsClassifier\n",
        "from sklearn.metrics import accuracy_score\n",
        "\n",
        "# 学習用のデータと結果の準備\n",
        "# X , Y\n",
        "learn_data = [[0,0], [1,0], [0,1], [1,1]]\n",
        "# X xor Y\n",
        "learn_label = [0, 1, 1, 0]  #(*) xor用のラベルに変更\n",
        "\n",
        "# アルゴリズムの指定(KNeighborsClassifier) --- (*2)\n",
        "clf = KNeighborsClassifier(n_neighbors = 1)\n",
        "\n",
        "# 学習用データと結果の学習\n",
        "clf.fit(learn_data, learn_label)\n",
        "\n",
        "# テストデータによる予測\n",
        "test_data = [[0,0], [1,0], [0,1], [1,1]]\n",
        "test_label = clf.predict(test_data)\n",
        "\n",
        "# テスト結果の評価\n",
        "print(test_data , \"の予測結果：\" ,  test_label)\n",
        "print(\"正解率 = \" , accuracy_score([0, 1, 1, 0], test_label))  #(*) xor用のラベルに変更"
      ]
    }
  ]
}
