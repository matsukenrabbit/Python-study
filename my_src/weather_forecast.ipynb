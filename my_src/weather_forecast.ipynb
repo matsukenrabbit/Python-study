{
  "nbformat": 4,
  "nbformat_minor": 0,
  "metadata": {
    "colab": {
      "provenance": [],
      "authorship_tag": "ABX9TyNh+FaZdTLqk3Epaw00MNah",
      "include_colab_link": true
    },
    "kernelspec": {
      "name": "python3",
      "display_name": "Python 3"
    },
    "language_info": {
      "name": "python"
    }
  },
  "cells": [
    {
      "cell_type": "markdown",
      "metadata": {
        "id": "view-in-github",
        "colab_type": "text"
      },
      "source": [
        "<a href=\"https://colab.research.google.com/github/matsukenrabbit/Python-study/blob/main/my_src/weather_forecast.ipynb\" target=\"_parent\"><img src=\"https://colab.research.google.com/assets/colab-badge.svg\" alt=\"Open In Colab\"/></a>"
      ]
    },
    {
      "cell_type": "markdown",
      "source": [
        "＜参考＞\n",
        "\n",
        "https://note.nkmk.me/python-requests-usage/\n",
        "\n",
        "みやさかしんや@Python/AI/DXのポスト\n"
      ],
      "metadata": {
        "id": "3TD1vYjU8oPb"
      }
    },
    {
      "cell_type": "code",
      "execution_count": 8,
      "metadata": {
        "id": "slfq9ohu3gD9"
      },
      "outputs": [],
      "source": [
        "import requests\n",
        "import pprint"
      ]
    },
    {
      "cell_type": "markdown",
      "source": [
        "Pythonの標準ライブラリurllibもURLを開くことができる。しかし、requestsを使うとよりシンプルに書ける。"
      ],
      "metadata": {
        "id": "1iZzb7wm33Xb"
      }
    },
    {
      "cell_type": "code",
      "source": [
        "weater_forecast_url = \"https://www.jma.go.jp/bosai/forecast/data/forecast/400000.json\"\n",
        "\n",
        "response = requests.get(weater_forecast_url)\n",
        "jma_json = response.json()\n",
        "pprint.pprint(jma_json, depth=4, compact=True)\n",
        "\n",
        "jma_weather = jma_json[0][\"timeSeries\"][0][\"areas\"][0][\"weathers\"][0].replace('　','')"
      ],
      "metadata": {
        "colab": {
          "base_uri": "https://localhost:8080/"
        },
        "id": "ENGM8h0k33sg",
        "outputId": "922e8cec-c123-4873-8bac-da5b498b22e2"
      },
      "execution_count": 12,
      "outputs": [
        {
          "output_type": "stream",
          "name": "stdout",
          "text": [
            "[{'publishingOffice': '福岡管区気象台',\n",
            "  'reportDatetime': '2024-09-29T17:00:00+09:00',\n",
            "  'timeSeries': [{'areas': [...], 'timeDefines': [...]},\n",
            "                 {'areas': [...], 'timeDefines': [...]},\n",
            "                 {'areas': [...], 'timeDefines': [...]}]},\n",
            " {'precipAverage': {'areas': [{...}]},\n",
            "  'publishingOffice': '福岡管区気象台',\n",
            "  'reportDatetime': '2024-09-29T17:00:00+09:00',\n",
            "  'tempAverage': {'areas': [{...}]},\n",
            "  'timeSeries': [{'areas': [...], 'timeDefines': [...]},\n",
            "                 {'areas': [...], 'timeDefines': [...]}]}]\n"
          ]
        }
      ]
    },
    {
      "cell_type": "markdown",
      "source": [
        "requests.get()は名前の通りHTTPのGETメソッド。\n",
        "\n",
        "get()の第一引数にURLを指定するとresponseオブジェクトが取得できる。\n",
        "\n",
        "responseオブジェクトの属性\n",
        "\n",
        ".json()⇒json()メソッドを使うとレスポンスの内容を辞書または辞書のリストに変換して取得できる。\n"
      ],
      "metadata": {
        "id": "l93m6SXy5zJC"
      }
    },
    {
      "cell_type": "code",
      "source": [
        "print(jma_weather)"
      ],
      "metadata": {
        "colab": {
          "base_uri": "https://localhost:8080/"
        },
        "id": "o_2NwvNi5yd4",
        "outputId": "f3ed3e07-68e0-4be1-fcc1-22fed7a32a99"
      },
      "execution_count": 13,
      "outputs": [
        {
          "output_type": "stream",
          "name": "stdout",
          "text": [
            "晴れ夜くもり\n"
          ]
        }
      ]
    }
  ]
}